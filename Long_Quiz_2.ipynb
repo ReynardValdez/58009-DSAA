{
  "nbformat": 4,
  "nbformat_minor": 0,
  "metadata": {
    "colab": {
      "provenance": [],
      "authorship_tag": "ABX9TyOl/b4hYdTvsHDCNTVpehR1",
      "include_colab_link": true
    },
    "kernelspec": {
      "name": "python3",
      "display_name": "Python 3"
    },
    "language_info": {
      "name": "python"
    }
  },
  "cells": [
    {
      "cell_type": "markdown",
      "metadata": {
        "id": "view-in-github",
        "colab_type": "text"
      },
      "source": [
        "<a href=\"https://colab.research.google.com/github/ReynardValdez/58009-DSAA/blob/main/Long_Quiz_2.ipynb\" target=\"_parent\"><img src=\"https://colab.research.google.com/assets/colab-badge.svg\" alt=\"Open In Colab\"/></a>"
      ]
    },
    {
      "cell_type": "code",
      "execution_count": 2,
      "metadata": {
        "colab": {
          "base_uri": "https://localhost:8080/"
        },
        "id": "_pFWljQ-qajm",
        "outputId": "376dd432-3932-4edb-96b9-8fe6e138cc52"
      },
      "outputs": [
        {
          "output_type": "stream",
          "name": "stdout",
          "text": [
            "['E', 'F', 'H', 'I', 'J', 'K', 'M', 'P']\n"
          ]
        }
      ],
      "source": [
        "class graph:\n",
        "   def __init__(self,gdict=None):\n",
        "      if gdict is None:\n",
        "         gdict = []\n",
        "      self.gdict = gdict\n",
        "\n",
        "   def getVertices(self):\n",
        "      return list(self.gdict.keys())\n",
        "\n",
        "graph_elements = {\n",
        "    'E' : ['I', 'J', 'K', 'M'],\n",
        "    'F' : ['I', 'J', 'K', 'P'],\n",
        "    'H' : ['I', 'J', 'K'],\n",
        "    'I' : ['E', 'F', 'H'],\n",
        "    'J' : ['E', 'F', 'H'],\n",
        "    'K' : ['E', 'F', 'H'],\n",
        "    'M' : ['E'],\n",
        "    'P' : ['F'],\n",
        "}\n",
        "g = graph(graph_elements)\n",
        "print(g.getVertices())"
      ]
    },
    {
      "cell_type": "code",
      "source": [
        "class graph:\n",
        "  def __init__(self,gdict=None):\n",
        "    if gdict is None:\n",
        "      gdict = {}\n",
        "    self.gdict = gdict\n",
        "\n",
        "  def edges(self):\n",
        "    return self.findedges()\n",
        "\n",
        "  def findedges(self):\n",
        "    edgename = []\n",
        "    for vrtx in self.gdict:\n",
        "      for nxtvrtx in self.gdict[vrtx]:\n",
        "        if {nxtvrtx, vrtx} not in edgename:edgename.append({vrtx, nxtvrtx})\n",
        "    return edgename\n",
        "\n",
        "graph_elements = {\n",
        "    'E' : ['I', 'J', 'K', 'M'],\n",
        "    'F' : ['I', 'J', 'K', 'P'],\n",
        "    'H' : ['I', 'J', 'K'],\n",
        "    'I' : ['E', 'F', 'H'],\n",
        "    'J' : ['E', 'F', 'H'],\n",
        "    'K' : ['E', 'F', 'H'],\n",
        "    'M' : ['E'],\n",
        "    'P' : ['F'],\n",
        "}\n",
        "g = graph(graph_elements)\n",
        "print(g.edges())"
      ],
      "metadata": {
        "colab": {
          "base_uri": "https://localhost:8080/"
        },
        "id": "7hST_Bqv0ocK",
        "outputId": "98293bff-8c37-4f17-d6d4-a7640f15a7f1"
      },
      "execution_count": 3,
      "outputs": [
        {
          "output_type": "stream",
          "name": "stdout",
          "text": [
            "[{'I', 'E'}, {'J', 'E'}, {'K', 'E'}, {'E', 'M'}, {'I', 'F'}, {'J', 'F'}, {'K', 'F'}, {'P', 'F'}, {'I', 'H'}, {'H', 'J'}, {'K', 'H'}]\n"
          ]
        }
      ]
    }
  ]
}