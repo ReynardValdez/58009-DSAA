{
  "nbformat": 4,
  "nbformat_minor": 0,
  "metadata": {
    "colab": {
      "provenance": [],
      "authorship_tag": "ABX9TyO32DsXZX/P1V5u0YMYKNsC",
      "include_colab_link": true
    },
    "kernelspec": {
      "name": "python3",
      "display_name": "Python 3"
    },
    "language_info": {
      "name": "python"
    }
  },
  "cells": [
    {
      "cell_type": "markdown",
      "metadata": {
        "id": "view-in-github",
        "colab_type": "text"
      },
      "source": [
        "<a href=\"https://colab.research.google.com/github/ReynardValdez/58009-DSAA/blob/main/Activity_4.ipynb\" target=\"_parent\"><img src=\"https://colab.research.google.com/assets/colab-badge.svg\" alt=\"Open In Colab\"/></a>"
      ]
    },
    {
      "cell_type": "code",
      "execution_count": 6,
      "metadata": {
        "colab": {
          "base_uri": "https://localhost:8080/"
        },
        "id": "moUjo2CGjEEK",
        "outputId": "33c05d3f-e383-493e-ed66-56be4b5f5bdf"
      },
      "outputs": [
        {
          "output_type": "stream",
          "name": "stdout",
          "text": [
            "['A', 'B', 'C']\n",
            "A\n",
            "B\n",
            "C\n",
            "[]\n"
          ]
        }
      ],
      "source": [
        "queue = []\n",
        "queue.append(\"A\")\n",
        "queue.append(\"B\")\n",
        "queue.append(\"C\")\n",
        "print(queue)\n",
        "\n",
        "print(queue.pop(0))\n",
        "print(queue.pop(0))\n",
        "print(queue.pop(0))\n",
        "print(queue)"
      ]
    },
    {
      "cell_type": "code",
      "source": [
        "queue = []\n",
        "queue.append(\"な = na\")\n",
        "queue.append(\"が = ga\")\n",
        "queue.append(\"れ = re\")\n",
        "queue.append(\"ぼ = bo\")\n",
        "queue.append(\"し = shi\")\n",
        "\n",
        "print(queue.pop(0))\n",
        "print(queue.pop(0))\n",
        "print(queue.pop(0))\n",
        "print(queue.pop(0))\n",
        "print(queue.pop(0))\n",
        "new_item = \"meaning Shooting Star\"\n",
        "position = 5\n",
        "queue.insert(position, new_item)\n",
        "print(queue)\n",
        "\n"
      ],
      "metadata": {
        "colab": {
          "base_uri": "https://localhost:8080/"
        },
        "id": "FFHlF-92pNKB",
        "outputId": "2cc0e140-8826-48ca-bc60-39b7e2f9e407"
      },
      "execution_count": 15,
      "outputs": [
        {
          "output_type": "stream",
          "name": "stdout",
          "text": [
            "な = na\n",
            "が = ga\n",
            "れ = re\n",
            "ぼ = bo\n",
            "し = shi\n",
            "['meaning Shooting Star']\n"
          ]
        }
      ]
    }
  ]
}