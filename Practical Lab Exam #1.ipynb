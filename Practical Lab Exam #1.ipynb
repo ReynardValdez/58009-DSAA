{
  "nbformat": 4,
  "nbformat_minor": 0,
  "metadata": {
    "colab": {
      "provenance": []
    },
    "kernelspec": {
      "name": "python3",
      "display_name": "Python 3"
    },
    "language_info": {
      "name": "python"
    }
  },
  "cells": [
    {
      "cell_type": "code",
      "source": [
        "sums = [26,49,98,87,62,75]\n",
        "total = 0\n",
        "\n",
        "for sum in sums:\n",
        "  if sum % 2 != 0:\n",
        "    total += sum\n",
        "\n",
        "print(\"The added sum is = \", total)"
      ],
      "metadata": {
        "id": "mru0VlsZygjg",
        "colab": {
          "base_uri": "https://localhost:8080/"
        },
        "outputId": "1655ecbd-7355-465b-9fb3-9ac467eeb277"
      },
      "execution_count": 3,
      "outputs": [
        {
          "output_type": "stream",
          "name": "stdout",
          "text": [
            "The added sum is =  211\n"
          ]
        }
      ]
    }
  ]
}