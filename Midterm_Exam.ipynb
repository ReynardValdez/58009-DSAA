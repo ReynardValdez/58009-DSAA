{
  "nbformat": 4,
  "nbformat_minor": 0,
  "metadata": {
    "colab": {
      "provenance": [],
      "authorship_tag": "ABX9TyOxSA+0f9C7PDV3KbCZrUPc",
      "include_colab_link": true
    },
    "kernelspec": {
      "name": "python3",
      "display_name": "Python 3"
    },
    "language_info": {
      "name": "python"
    }
  },
  "cells": [
    {
      "cell_type": "markdown",
      "metadata": {
        "id": "view-in-github",
        "colab_type": "text"
      },
      "source": [
        "<a href=\"https://colab.research.google.com/github/ReynardValdez/58009-DSAA/blob/main/Midterm_Exam.ipynb\" target=\"_parent\"><img src=\"https://colab.research.google.com/assets/colab-badge.svg\" alt=\"Open In Colab\"/></a>"
      ]
    },
    {
      "cell_type": "markdown",
      "source": [
        "Edges"
      ],
      "metadata": {
        "id": "1zFSFoHbTzIh"
      }
    },
    {
      "cell_type": "code",
      "execution_count": 5,
      "metadata": {
        "colab": {
          "base_uri": "https://localhost:8080/"
        },
        "id": "_LxFDURUHR2r",
        "outputId": "58ebbc4e-64e8-4aac-dffb-48cfc4724926"
      },
      "outputs": [
        {
          "output_type": "stream",
          "name": "stdout",
          "text": [
            "[{'A', 'B'}, {'C', 'B'}, {'B', 'E'}, {'B', 'F'}, {'D', 'C'}, {'C', 'E'}, {'C', 'F'}, {'C', 'I'}, {'C', 'M'}, {'D', 'L'}, {'D', 'K'}, {'N', 'E'}, {'F', 'G'}, {'F', 'I'}, {'G', 'I'}, {'J', 'G'}, {'J', 'I'}, {'K', 'I'}, {'J', 'K'}, {'L', 'M'}, {'L', 'P'}, {'M', 'N'}, {'O', 'M'}, {'M', 'P'}, {'O', 'N'}, {'O', 'P'}]\n"
          ]
        }
      ],
      "source": [
        "class graph:\n",
        "\n",
        "  def __init__(self,gdict=None):\n",
        "    if gdict is None:\n",
        "      gdict = {}\n",
        "    self.gdict = gdict\n",
        "\n",
        "  def edges(self):\n",
        "    return self.findedges()\n",
        "\n",
        "  def findedges(self):\n",
        "    edgename = []\n",
        "    for vrtx in self.gdict:\n",
        "      for nxtvrtx in self.gdict[vrtx]:\n",
        "        if {nxtvrtx, vrtx} not in edgename:edgename.append({vrtx, nxtvrtx})\n",
        "    return edgename\n",
        "\n",
        "graph_elements = {\n",
        "    \"A\" : [\"B\"],\n",
        "    \"B\" : [\"C\",\"E\",\"F\"],\n",
        "    \"C\" : [\"B\",\"D\",\"E\",\"F\",\"I\",\"M\"],\n",
        "    \"D\" : [\"C\",\"K\",\"L\"],\n",
        "    \"E\" : [\"B\",\"C\",\"N\"],\n",
        "    \"F\" : [\"B\",\"C\",\"G\",\"I\"],\n",
        "    \"G\" : [\"F\",\"I\",\"J\"],\n",
        "    \"I\" : [\"C\",\"F\",\"G\",\"J\",\"K\"],\n",
        "    \"J\" : [\"G\",\"I\",\"K\"],\n",
        "    \"K\" : [\"D\",\"I\",\"J\"],\n",
        "    \"L\" : [\"D\",\"M\",\"P\"],\n",
        "    \"M\" : [\"C\",\"L\",\"N\",\"O\",\"P\"],\n",
        "    \"N\" : [\"E\",\"M\",\"O\"],\n",
        "    \"O\" : [\"M\",\"N\",\"P\"],\n",
        "    \"P\" : [\"L\",\"M\",\"O\"],\n",
        "}\n",
        "g = graph(graph_elements)\n",
        "print(g.edges())"
      ]
    },
    {
      "cell_type": "markdown",
      "source": [
        "Vertices"
      ],
      "metadata": {
        "id": "Xgr6mbllUZgp"
      }
    },
    {
      "cell_type": "code",
      "source": [
        "class graph:\n",
        "\n",
        "   def __init__(self,gdict=None):\n",
        "      if gdict is None:\n",
        "         gdict = []\n",
        "      self.gdict = gdict\n",
        "\n",
        "   def getVertices(self):\n",
        "      return list(self.gdict.keys())\n",
        "\n",
        "graph_elements = {\n",
        "    \"A\" : [11],\n",
        "    \"B\" : [1,85,90],\n",
        "    \"C\" : [1,14,42,21,22,8],\n",
        "    \"D\" : [14,13,6],\n",
        "    \"E\" : [85,42,35],\n",
        "    \"F\" : [90,21,10,9],\n",
        "    \"G\" : [10,5,16],\n",
        "    \"I\" : [22,9,5,27,99],\n",
        "    \"J\" : [16,27,32],\n",
        "    \"K\" : [13,99,32],\n",
        "    \"L\" : [6,60,51],\n",
        "    \"M\" : [8,60,1,17,40],\n",
        "    \"N\" : [35,1,50],\n",
        "    \"O\" : [17,50,52],\n",
        "    \"P\" : [51,40,52],\n",
        "}\n",
        "g = graph(graph_elements)\n",
        "print(g.getVertices())"
      ],
      "metadata": {
        "colab": {
          "base_uri": "https://localhost:8080/"
        },
        "id": "mUNGtrR0UcAw",
        "outputId": "b51d01a3-233e-49ca-8d1e-ce9feee9bed0"
      },
      "execution_count": 8,
      "outputs": [
        {
          "output_type": "stream",
          "name": "stdout",
          "text": [
            "['A', 'B', 'C', 'D', 'E', 'F', 'G', 'I', 'J', 'K', 'L', 'M', 'N', 'O', 'P']\n"
          ]
        }
      ]
    }
  ]
}