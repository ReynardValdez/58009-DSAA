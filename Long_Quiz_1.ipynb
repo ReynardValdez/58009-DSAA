{
  "nbformat": 4,
  "nbformat_minor": 0,
  "metadata": {
    "colab": {
      "provenance": [],
      "authorship_tag": "ABX9TyNRZxoK8QvMX221DPOsBauN",
      "include_colab_link": true
    },
    "kernelspec": {
      "name": "python3",
      "display_name": "Python 3"
    },
    "language_info": {
      "name": "python"
    }
  },
  "cells": [
    {
      "cell_type": "markdown",
      "metadata": {
        "id": "view-in-github",
        "colab_type": "text"
      },
      "source": [
        "<a href=\"https://colab.research.google.com/github/ReynardValdez/58009-DSAA/blob/main/Long_Quiz_1.ipynb\" target=\"_parent\"><img src=\"https://colab.research.google.com/assets/colab-badge.svg\" alt=\"Open In Colab\"/></a>"
      ]
    },
    {
      "cell_type": "markdown",
      "source": [
        "Question (1)"
      ],
      "metadata": {
        "id": "o-mBNGquBIqG"
      }
    },
    {
      "cell_type": "code",
      "execution_count": 30,
      "metadata": {
        "colab": {
          "base_uri": "https://localhost:8080/"
        },
        "id": "X1uUCiz81E_5",
        "outputId": "8535d915-6656-4e6c-8055-f267df4a0c01"
      },
      "outputs": [
        {
          "output_type": "stream",
          "name": "stdout",
          "text": [
            "[[...], 'z', 'e', 'd', 'l', 'a', 'V', 'M.', ' ', 's', 'e', 'm', 'a', 'J', ' ', 'd', 'r', 'a', 'n', 'y', 'e', 'R']\n"
          ]
        }
      ],
      "source": [
        "char = ['R','e','y','n','a','r','d',' ','J','a','m','e','s',' ','M.','V','a','l','d','e','z']\n",
        "char.append(char)\n",
        "char.reverse()\n",
        "print(char)"
      ]
    },
    {
      "cell_type": "markdown",
      "source": [
        "Question (2)"
      ],
      "metadata": {
        "id": "rCXZHKsTBN3F"
      }
    },
    {
      "cell_type": "code",
      "source": [
        "lower = 1\n",
        "upper = 10\n",
        "\n",
        "print(\"The Prime numbers\", lower, \"to\", upper, \"are:\")\n",
        "\n",
        "for num in range(lower, upper + 1):\n",
        "   if num > 1:\n",
        "       for i in range(2, num):\n",
        "           if (num % i) == 0:\n",
        "               break\n",
        "       else:\n",
        "           print(num)"
      ],
      "metadata": {
        "colab": {
          "base_uri": "https://localhost:8080/"
        },
        "id": "9OnCL6X1BQTt",
        "outputId": "738e6a95-9fb0-46d5-891b-9b577ded929d"
      },
      "execution_count": 70,
      "outputs": [
        {
          "output_type": "stream",
          "name": "stdout",
          "text": [
            "The Prime numbers 1 to 10 are:\n",
            "2\n",
            "3\n",
            "5\n",
            "7\n"
          ]
        }
      ]
    }
  ]
}