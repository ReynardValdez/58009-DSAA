{
  "nbformat": 4,
  "nbformat_minor": 0,
  "metadata": {
    "colab": {
      "provenance": [],
      "authorship_tag": "ABX9TyOK7FQjkHBP53qfMKbZB/dW",
      "include_colab_link": true
    },
    "kernelspec": {
      "name": "python3",
      "display_name": "Python 3"
    },
    "language_info": {
      "name": "python"
    }
  },
  "cells": [
    {
      "cell_type": "markdown",
      "metadata": {
        "id": "view-in-github",
        "colab_type": "text"
      },
      "source": [
        "<a href=\"https://colab.research.google.com/github/ReynardValdez/58009-DSAA/blob/main/Prelim_Exam.ipynb\" target=\"_parent\"><img src=\"https://colab.research.google.com/assets/colab-badge.svg\" alt=\"Open In Colab\"/></a>"
      ]
    },
    {
      "cell_type": "code",
      "execution_count": 6,
      "metadata": {
        "colab": {
          "base_uri": "https://localhost:8080/"
        },
        "id": "dHRvgWT93u0r",
        "outputId": "38c915ab-0ad6-4064-c6d7-6f2201dff0cc"
      },
      "outputs": [
        {
          "output_type": "stream",
          "name": "stdout",
          "text": [
            "Array is = 397\n"
          ]
        }
      ],
      "source": [
        "from typing_extensions import Counter\n",
        "arr = [26, 49, 98, 87, 62, 75]\n",
        "c = Counter(arr)\n",
        "sum = 0\n",
        "\n",
        "for key, value in c.items():\n",
        "  sum += key * value\n",
        "print(\"Array is =\", sum)\n",
        "\n"
      ]
    },
    {
      "cell_type": "code",
      "source": [
        "arr = [26, 49, 98, 87, 62, 75]\n",
        "sorted(arr)\n",
        "\n"
      ],
      "metadata": {
        "id": "m2yJLsWw7NMq",
        "colab": {
          "base_uri": "https://localhost:8080/"
        },
        "outputId": "80dc8bd1-ff23-4035-b22b-5c7eb4e2f794"
      },
      "execution_count": 7,
      "outputs": [
        {
          "output_type": "execute_result",
          "data": {
            "text/plain": [
              "[26, 49, 62, 75, 87, 98]"
            ]
          },
          "metadata": {},
          "execution_count": 7
        }
      ]
    }
  ]
}