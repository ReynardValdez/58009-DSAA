{
  "nbformat": 4,
  "nbformat_minor": 0,
  "metadata": {
    "colab": {
      "provenance": [],
      "authorship_tag": "ABX9TyOo0h7wjyEg10jP9ALtnaGb",
      "include_colab_link": true
    },
    "kernelspec": {
      "name": "python3",
      "display_name": "Python 3"
    },
    "language_info": {
      "name": "python"
    }
  },
  "cells": [
    {
      "cell_type": "markdown",
      "metadata": {
        "id": "view-in-github",
        "colab_type": "text"
      },
      "source": [
        "<a href=\"https://colab.research.google.com/github/ReynardValdez/58009-DSAA/blob/main/Prelim_Exam.ipynb\" target=\"_parent\"><img src=\"https://colab.research.google.com/assets/colab-badge.svg\" alt=\"Open In Colab\"/></a>"
      ]
    },
    {
      "cell_type": "markdown",
      "source": [
        "Open your Python (Pycharm or Colab) or Dev C++ to create the source code for adding the test scores 26, 49, 98, 87, 62, 75 (30 points)"
      ],
      "metadata": {
        "id": "3oqXIAgMBVVr"
      }
    },
    {
      "cell_type": "code",
      "execution_count": 2,
      "metadata": {
        "colab": {
          "base_uri": "https://localhost:8080/"
        },
        "id": "dHRvgWT93u0r",
        "outputId": "2a246511-740d-4831-b8ae-62d991a0e239"
      },
      "outputs": [
        {
          "output_type": "stream",
          "name": "stdout",
          "text": [
            "Array is = 397\n"
          ]
        }
      ],
      "source": [
        "from typing_extensions import Counter\n",
        "arr = [26, 49, 98, 87, 62, 75]\n",
        "c = Counter(arr)\n",
        "sum = 0\n",
        "\n",
        "for key, value in c.items():\n",
        "  sum += key * value\n",
        "print(\"Array is =\", sum)"
      ]
    },
    {
      "cell_type": "markdown",
      "source": [
        "Create a program to sort the test scores in ascending order (20 points)"
      ],
      "metadata": {
        "id": "zy-his7tBY-q"
      }
    },
    {
      "cell_type": "code",
      "source": [
        "arr = [26, 49, 98, 87, 62, 75]\n",
        "sorted(arr)\n"
      ],
      "metadata": {
        "colab": {
          "base_uri": "https://localhost:8080/"
        },
        "id": "m2yJLsWw7NMq",
        "outputId": "3f88f5e4-57a9-4c5f-9ae4-a30fa8eb687c"
      },
      "execution_count": 3,
      "outputs": [
        {
          "output_type": "execute_result",
          "data": {
            "text/plain": [
              "[26, 49, 62, 75, 87, 98]"
            ]
          },
          "metadata": {},
          "execution_count": 3
        }
      ]
    }
  ]
}